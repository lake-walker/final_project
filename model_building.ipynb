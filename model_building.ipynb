{
 "cells": [
  {
   "cell_type": "code",
   "execution_count": 2,
   "metadata": {},
   "outputs": [],
   "source": [
    "%matplotlib inline\n",
    "import matplotlib.pyplot as plt\n",
    "import numpy as np\n",
    "from sklearn.datasets import make_regression\n",
    "import pandas as pd"
   ]
  },
  {
   "cell_type": "code",
   "execution_count": 3,
   "metadata": {},
   "outputs": [],
   "source": [
    "# read in csv to be used for model\n",
    "data = pd.read_csv('data/new_country_data.csv')\n",
    "data = data.dropna()"
   ]
  },
  {
   "cell_type": "code",
   "execution_count": 4,
   "metadata": {},
   "outputs": [
    {
     "name": "stdout",
     "output_type": "stream",
     "text": [
      "(111, 6) (111, 1)\n"
     ]
    }
   ],
   "source": [
    "# Assign the data to x and y \n",
    "X = data[['happiness_score_2015','human_development_index','gdp_percapita_2015','alcohol_consumption_percapita',\\\n",
    "         'health_spending_percapita_2015','private_debt_2015']]\n",
    "y = data['sui_per_100k_2015'].values.reshape(-1,1)\n",
    "print(X.shape,y.shape)"
   ]
  },
  {
   "cell_type": "code",
   "execution_count": 5,
   "metadata": {},
   "outputs": [],
   "source": [
    "# create training and testing data\n",
    "from sklearn.model_selection import train_test_split\n",
    "\n",
    "X_train, X_test, y_train, y_test = train_test_split(X, y, random_state=42)"
   ]
  },
  {
   "cell_type": "code",
   "execution_count": 6,
   "metadata": {},
   "outputs": [
    {
     "data": {
      "text/plain": [
       "Index(['happiness_score_2015', 'human_development_index', 'gdp_percapita_2015',\n",
       "       'alcohol_consumption_percapita', 'health_spending_percapita_2015',\n",
       "       'private_debt_2015'],\n",
       "      dtype='object')"
      ]
     },
     "execution_count": 6,
     "metadata": {},
     "output_type": "execute_result"
    }
   ],
   "source": [
    "X_train.columns"
   ]
  },
  {
   "cell_type": "code",
   "execution_count": 7,
   "metadata": {},
   "outputs": [],
   "source": [
    "# scale the data for better processing with standardscaler\n",
    "from sklearn.preprocessing import StandardScaler\n",
    "X_scaler = StandardScaler().fit(X_train)\n",
    "y_scaler = StandardScaler().fit(y_train)"
   ]
  },
  {
   "cell_type": "code",
   "execution_count": 8,
   "metadata": {},
   "outputs": [],
   "source": [
    "X_train_scaled = X_scaler.transform(X_train)\n",
    "X_test_scaled = X_scaler.transform(X_test)\n",
    "y_train_scaled = y_scaler.transform(y_train)\n",
    "y_test_scaled = y_scaler.transform(y_test)"
   ]
  },
  {
   "cell_type": "code",
   "execution_count": 9,
   "metadata": {
    "scrolled": true
   },
   "outputs": [
    {
     "data": {
      "text/plain": [
       "array([[-1.37320289],\n",
       "       [ 1.08208106],\n",
       "       [ 0.40005774],\n",
       "       [-0.86655699],\n",
       "       [-0.24299282],\n",
       "       [-0.88604337],\n",
       "       [ 0.73132621],\n",
       "       [-1.2562846 ],\n",
       "       [-0.12607453],\n",
       "       [ 0.3415986 ],\n",
       "       [-0.10658815],\n",
       "       [-0.98347528],\n",
       "       [-0.69117957],\n",
       "       [-1.23679822],\n",
       "       [ 1.8420499 ],\n",
       "       [-1.37320289],\n",
       "       [ 1.39386314],\n",
       "       [-0.08710177],\n",
       "       [ 0.20519393],\n",
       "       [ 0.88721725],\n",
       "       [ 0.36108498],\n",
       "       [-0.30145196],\n",
       "       [-0.61323405],\n",
       "       [-1.13936632],\n",
       "       [-0.39888386],\n",
       "       [ 0.61440792],\n",
       "       [ 0.12724841],\n",
       "       [ 1.4328359 ]])"
      ]
     },
     "execution_count": 9,
     "metadata": {},
     "output_type": "execute_result"
    }
   ],
   "source": [
    "y_test_scaled"
   ]
  },
  {
   "cell_type": "code",
   "execution_count": 10,
   "metadata": {
    "scrolled": true
   },
   "outputs": [
    {
     "name": "stdout",
     "output_type": "stream",
     "text": [
      "Training Score: 0.3641380678685078\n",
      "Testing Score: 0.49326504134159643\n",
      "MSE: 0.4057530109051795, R2: 0.49326504134159643\n"
     ]
    },
    {
     "data": {
      "text/html": [
       "<div>\n",
       "<style scoped>\n",
       "    .dataframe tbody tr th:only-of-type {\n",
       "        vertical-align: middle;\n",
       "    }\n",
       "\n",
       "    .dataframe tbody tr th {\n",
       "        vertical-align: top;\n",
       "    }\n",
       "\n",
       "    .dataframe thead th {\n",
       "        text-align: right;\n",
       "    }\n",
       "</style>\n",
       "<table border=\"1\" class=\"dataframe\">\n",
       "  <thead>\n",
       "    <tr style=\"text-align: right;\">\n",
       "      <th></th>\n",
       "      <th>predictions</th>\n",
       "      <th>actual</th>\n",
       "    </tr>\n",
       "  </thead>\n",
       "  <tbody>\n",
       "    <tr>\n",
       "      <th>0</th>\n",
       "      <td>-0.458746</td>\n",
       "      <td>-1.373203</td>\n",
       "    </tr>\n",
       "    <tr>\n",
       "      <th>1</th>\n",
       "      <td>0.045596</td>\n",
       "      <td>1.082081</td>\n",
       "    </tr>\n",
       "    <tr>\n",
       "      <th>2</th>\n",
       "      <td>0.197454</td>\n",
       "      <td>0.400058</td>\n",
       "    </tr>\n",
       "    <tr>\n",
       "      <th>3</th>\n",
       "      <td>-0.740923</td>\n",
       "      <td>-0.866557</td>\n",
       "    </tr>\n",
       "    <tr>\n",
       "      <th>4</th>\n",
       "      <td>-0.026911</td>\n",
       "      <td>-0.242993</td>\n",
       "    </tr>\n",
       "    <tr>\n",
       "      <th>5</th>\n",
       "      <td>0.040182</td>\n",
       "      <td>-0.886043</td>\n",
       "    </tr>\n",
       "    <tr>\n",
       "      <th>6</th>\n",
       "      <td>-0.287042</td>\n",
       "      <td>0.731326</td>\n",
       "    </tr>\n",
       "    <tr>\n",
       "      <th>7</th>\n",
       "      <td>-0.831484</td>\n",
       "      <td>-1.256285</td>\n",
       "    </tr>\n",
       "    <tr>\n",
       "      <th>8</th>\n",
       "      <td>-0.254947</td>\n",
       "      <td>-0.126075</td>\n",
       "    </tr>\n",
       "    <tr>\n",
       "      <th>9</th>\n",
       "      <td>-0.648448</td>\n",
       "      <td>0.341599</td>\n",
       "    </tr>\n",
       "    <tr>\n",
       "      <th>10</th>\n",
       "      <td>0.269592</td>\n",
       "      <td>-0.106588</td>\n",
       "    </tr>\n",
       "    <tr>\n",
       "      <th>11</th>\n",
       "      <td>-0.040519</td>\n",
       "      <td>-0.983475</td>\n",
       "    </tr>\n",
       "    <tr>\n",
       "      <th>12</th>\n",
       "      <td>-0.312861</td>\n",
       "      <td>-0.691180</td>\n",
       "    </tr>\n",
       "    <tr>\n",
       "      <th>13</th>\n",
       "      <td>0.111423</td>\n",
       "      <td>-1.236798</td>\n",
       "    </tr>\n",
       "    <tr>\n",
       "      <th>14</th>\n",
       "      <td>0.998438</td>\n",
       "      <td>1.842050</td>\n",
       "    </tr>\n",
       "    <tr>\n",
       "      <th>15</th>\n",
       "      <td>-0.803232</td>\n",
       "      <td>-1.373203</td>\n",
       "    </tr>\n",
       "    <tr>\n",
       "      <th>16</th>\n",
       "      <td>0.697780</td>\n",
       "      <td>1.393863</td>\n",
       "    </tr>\n",
       "    <tr>\n",
       "      <th>17</th>\n",
       "      <td>-0.328829</td>\n",
       "      <td>-0.087102</td>\n",
       "    </tr>\n",
       "    <tr>\n",
       "      <th>18</th>\n",
       "      <td>0.132146</td>\n",
       "      <td>0.205194</td>\n",
       "    </tr>\n",
       "    <tr>\n",
       "      <th>19</th>\n",
       "      <td>0.374918</td>\n",
       "      <td>0.887217</td>\n",
       "    </tr>\n",
       "    <tr>\n",
       "      <th>20</th>\n",
       "      <td>0.333675</td>\n",
       "      <td>0.361085</td>\n",
       "    </tr>\n",
       "    <tr>\n",
       "      <th>21</th>\n",
       "      <td>-0.212778</td>\n",
       "      <td>-0.301452</td>\n",
       "    </tr>\n",
       "    <tr>\n",
       "      <th>22</th>\n",
       "      <td>-0.214154</td>\n",
       "      <td>-0.613234</td>\n",
       "    </tr>\n",
       "    <tr>\n",
       "      <th>23</th>\n",
       "      <td>-0.209128</td>\n",
       "      <td>-1.139366</td>\n",
       "    </tr>\n",
       "    <tr>\n",
       "      <th>24</th>\n",
       "      <td>-0.083524</td>\n",
       "      <td>-0.398884</td>\n",
       "    </tr>\n",
       "    <tr>\n",
       "      <th>25</th>\n",
       "      <td>0.332283</td>\n",
       "      <td>0.614408</td>\n",
       "    </tr>\n",
       "    <tr>\n",
       "      <th>26</th>\n",
       "      <td>0.390404</td>\n",
       "      <td>0.127248</td>\n",
       "    </tr>\n",
       "    <tr>\n",
       "      <th>27</th>\n",
       "      <td>1.825885</td>\n",
       "      <td>1.432836</td>\n",
       "    </tr>\n",
       "  </tbody>\n",
       "</table>\n",
       "</div>"
      ],
      "text/plain": [
       "    predictions    actual\n",
       "0     -0.458746 -1.373203\n",
       "1      0.045596  1.082081\n",
       "2      0.197454  0.400058\n",
       "3     -0.740923 -0.866557\n",
       "4     -0.026911 -0.242993\n",
       "5      0.040182 -0.886043\n",
       "6     -0.287042  0.731326\n",
       "7     -0.831484 -1.256285\n",
       "8     -0.254947 -0.126075\n",
       "9     -0.648448  0.341599\n",
       "10     0.269592 -0.106588\n",
       "11    -0.040519 -0.983475\n",
       "12    -0.312861 -0.691180\n",
       "13     0.111423 -1.236798\n",
       "14     0.998438  1.842050\n",
       "15    -0.803232 -1.373203\n",
       "16     0.697780  1.393863\n",
       "17    -0.328829 -0.087102\n",
       "18     0.132146  0.205194\n",
       "19     0.374918  0.887217\n",
       "20     0.333675  0.361085\n",
       "21    -0.212778 -0.301452\n",
       "22    -0.214154 -0.613234\n",
       "23    -0.209128 -1.139366\n",
       "24    -0.083524 -0.398884\n",
       "25     0.332283  0.614408\n",
       "26     0.390404  0.127248\n",
       "27     1.825885  1.432836"
      ]
     },
     "execution_count": 10,
     "metadata": {},
     "output_type": "execute_result"
    }
   ],
   "source": [
    "# quantify the model using the scaled data\n",
    "from sklearn.linear_model import LinearRegression\n",
    "from sklearn.metrics import mean_squared_error\n",
    "\n",
    "model = LinearRegression()\n",
    "\n",
    "history = model.fit(X_train_scaled, y_train_scaled)\n",
    "\n",
    "predictions = model.predict(X_test_scaled)\n",
    "MSE = mean_squared_error(y_test_scaled, predictions)\n",
    "r2 = model.score(X_test_scaled, y_test_scaled)\n",
    "\n",
    "coef = model.coef_\n",
    "coef_df = pd.DataFrame(coef, columns=[['happiness_score_2015',\\\n",
    "    'human_development_index', 'gdp_percapita_2015','alcohol_consumption_percapita', 'health_spending_percapita_2015',\\\n",
    "                                       'private_debt_2015']])\n",
    "intercept = model.intercept_\n",
    "intercept = pd.DataFrame(intercept, columns=['int'])\n",
    "\n",
    "\n",
    "training_score = model.score(X_train_scaled, y_train_scaled)\n",
    "testing_score = model.score(X_test_scaled, y_test_scaled) \n",
    "\n",
    "print(f\"Training Score: {training_score}\")\n",
    "print(f\"Testing Score: {testing_score}\")\n",
    "\n",
    "\n",
    "print(f\"MSE: {MSE}, R2: {r2}\")\n",
    "\n",
    "predictions_df = pd.DataFrame(predictions, columns=['predictions'])\n",
    "actual_df = pd.DataFrame(y_test_scaled, columns=['actual'])\n",
    "test_df = pd.concat([predictions_df,actual_df],axis=1)\n"
   ]
  },
  {
   "cell_type": "code",
   "execution_count": 11,
   "metadata": {},
   "outputs": [
    {
     "data": {
      "text/plain": [
       "Text(0.5, 1.0, 'Residual Plot')"
      ]
     },
     "execution_count": 11,
     "metadata": {},
     "output_type": "execute_result"
    },
    {
     "data": {
      "image/png": "[encoded data removed]",
      "text/plain": [
       "<Figure size 432x288 with 1 Axes>"
      ]
     },
     "metadata": {
      "needs_background": "light"
     },
     "output_type": "display_data"
    }
   ],
   "source": [
    "plt.scatter(model.predict(X_train_scaled), model.predict(X_train_scaled) - y_train_scaled, c=\"blue\", label=\"Training Data\")\n",
    "plt.scatter(model.predict(X_test_scaled), model.predict(X_test_scaled) - y_test_scaled, c=\"orange\", label=\"Testing Data\")\n",
    "plt.legend()\n",
    "plt.hlines(y=0, xmin=-2, xmax=2)\n",
    "plt.title(\"Residual Plot\")"
   ]
  },
  {
   "cell_type": "code",
   "execution_count": 20,
   "metadata": {},
   "outputs": [
    {
     "data": {
      "text/plain": [
       "array([[ 198.9506794 ],\n",
       "       [ 115.93400949],\n",
       "       [8481.27023948],\n",
       "       [9356.13177707],\n",
       "       [ 108.5938577 ],\n",
       "       [1431.71562282],\n",
       "       [ 548.82160014],\n",
       "       [ 488.60712404],\n",
       "       [ 370.64911147],\n",
       "       [ 413.10281024]])"
      ]
     },
     "execution_count": 20,
     "metadata": {},
     "output_type": "execute_result"
    }
   ],
   "source": [
    "model.predict(X_test[:10])"
   ]
  },
  {
   "cell_type": "code",
   "execution_count": 15,
   "metadata": {},
   "outputs": [
    {
     "data": {
      "text/plain": [
       "array([[ 3.1],\n",
       "       [15.7],\n",
       "       [12.2],\n",
       "       [ 5.7],\n",
       "       [ 8.9],\n",
       "       [ 5.6],\n",
       "       [13.9],\n",
       "       [ 3.7],\n",
       "       [ 9.5],\n",
       "       [11.9]])"
      ]
     },
     "execution_count": 15,
     "metadata": {},
     "output_type": "execute_result"
    }
   ],
   "source": [
    "y_test[:10]"
   ]
  },
  {
   "cell_type": "code",
   "execution_count": null,
   "metadata": {},
   "outputs": [],
   "source": []
  }
 ],
 "metadata": {
  "kernelspec": {
   "display_name": "Python [conda env:PythonData] *",
   "language": "python",
   "name": "conda-env-PythonData-py"
  },
  "language_info": {
   "codemirror_mode": {
    "name": "ipython",
    "version": 3
   },
   "file_extension": ".py",
   "mimetype": "text/x-python",
   "name": "python",
   "nbconvert_exporter": "python",
   "pygments_lexer": "ipython3",
   "version": "3.7.1"
  }
 },
 "nbformat": 4,
 "nbformat_minor": 4
}
